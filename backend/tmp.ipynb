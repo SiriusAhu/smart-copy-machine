{
 "cells": [
  {
   "cell_type": "code",
   "execution_count": 17,
   "id": "bf8dbc8f",
   "metadata": {},
   "outputs": [
    {
     "name": "stdout",
     "output_type": "stream",
     "text": [
      "['Generator London', \"Hazlitt's\", 'Muji Hotel Ginza']\n"
     ]
    }
   ],
   "source": [
    "import requests\n",
    "\n",
    "response = requests.get(\"http://127.0.0.1:8000/get_template_list\")\n",
    "if response.status_code == 200:\n",
    "    print(response.json())\n",
    "else:\n",
    "    print(f\"Error: {response.status_code}, {response.text}\")"
   ]
  },
  {
   "cell_type": "code",
   "execution_count": 19,
   "id": "e1b255c7",
   "metadata": {},
   "outputs": [
    {
     "name": "stdout",
     "output_type": "stream",
     "text": [
      "{'Hotel Name': \"Hazlitt's\", 'Location': \"Soho, London, United Kingdom (in the heart of the West End’s Theatreland) (Hotel Hazlitt's, London, United Kingdom - www.trivago.com).\", 'Architectural Style': \"Georgian townhouse boutique hotel with interiors that reflect its 18th-century history. Rooms feature carved oak four-poster beds, rich fabrics, and Victorian-era fittings, transporting guests back in time (Hotel Hazlitt's, London, United Kingdom - www.trivago.com).\", 'Service Highlights': \"Old-world hospitality with modern touches: an elegant library lounge with a cozy fireplace and an honesty bar for evening drinks (Hotel Hazlitt's, London, United Kingdom - www.trivago.com), indulgent in-room breakfasts of fresh pastries and coffee (Hotel Hazlitt's, London, United Kingdom - www.trivago.com), and 24-hour attentive service. Double-paned windows preserve quiet comfort amid the lively Soho streets, ensuring a peaceful night’s sleep (Hotel Hazlitt's, London, United Kingdom - www.trivago.com).\", 'Suitable For': 'Sophisticated travelers, history and literature enthusiasts, theatergoers, and couples seeking a romantic, character-rich stay. Perfect for those who appreciate classical elegance, privacy, and a central London location steeped in culture.'}\n"
     ]
    }
   ],
   "source": [
    "response = requests.get(\"http://127.0.0.1:8000/get_template\", params={\"template_name\": \"Hazlitt's\"})\n",
    "print(response.json())"
   ]
  },
  {
   "cell_type": "code",
   "execution_count": 8,
   "id": "9e75b394",
   "metadata": {},
   "outputs": [
    {
     "name": "stdout",
     "output_type": "stream",
     "text": [
      "[{'id': 'official_website', 'name': 'Official Website Style'}, {'id': 'professional', 'name': 'Professional Tone'}]\n"
     ]
    }
   ],
   "source": [
    "id_dict = requests.get(\"http://127.0.0.1:8000/presets\").json()\n",
    "print(id_dict)"
   ]
  },
  {
   "cell_type": "code",
   "execution_count": 39,
   "id": "be4cb842",
   "metadata": {},
   "outputs": [
    {
     "name": "stdout",
     "output_type": "stream",
     "text": [
      "Preset data: {'scenario': {'Website': \"You are a professional copywriter writing for a hotel's official website.\\nTone: polished, informative, elegant.\", 'OTA': 'You are crafting engaging OTA (Online Travel Agency) copy.\\nTone: concise, benefit-driven, trust-building.', 'Social': 'You are creating a viral social-media post.\\nTone: snappy, friendly, hashtag-ready.'}, 'style': {'japanese_minimal': 'Style: Japanese minimalist—clean, calm, nature‑inspired.', 'english_vintage': 'Style: English vintage—ornate, historic, warm.', 'youth_social': 'Style: Youthful social—fresh, colloquial, emoji‑friendly.'}}\n"
     ]
    }
   ],
   "source": [
    "import requests\n",
    "\n",
    "# Base URL of your API\n",
    "base_url = \"http://localhost:8000\"  # Replace with your actual server URL\n",
    "\n",
    "# Make the GET request\n",
    "response = requests.get(f\"{base_url}/presets\")\n",
    "\n",
    "# Check the response\n",
    "if response.status_code == 200:\n",
    "    print(\"Preset data:\", response.json())\n",
    "else:\n",
    "    print(\"Error:\", response.status_code, response.json())"
   ]
  },
  {
   "cell_type": "code",
   "execution_count": 42,
   "id": "9da35bd6",
   "metadata": {},
   "outputs": [
    {
     "data": {
      "text/plain": [
       "dict_keys(['japanese_minimal', 'english_vintage', 'youth_social'])"
      ]
     },
     "execution_count": 42,
     "metadata": {},
     "output_type": "execute_result"
    }
   ],
   "source": [
    "r = response.json()\n",
    "r['style'].keys()"
   ]
  },
  {
   "cell_type": "code",
   "execution_count": 13,
   "id": "b4001071",
   "metadata": {},
   "outputs": [
    {
     "name": "stdout",
     "output_type": "stream",
     "text": [
      "{'detail': 'Not Found'}\n"
     ]
    }
   ],
   "source": [
    "name = requests.get(f\"http://127.0.0.1:8000/presets/{id_dict[0]['id']}\").json()\n",
    "print(name)"
   ]
  },
  {
   "cell_type": "code",
   "execution_count": 1,
   "id": "c8e5a3b9",
   "metadata": {},
   "outputs": [
    {
     "name": "stdout",
     "output_type": "stream",
     "text": [
      "You are a professional travel copywriting assistant to generate hotel descriptions.\n",
      "\n",
      "Here is the hotel information:\n",
      "{{ hotel_info }}\n",
      "\n",
      "You should use \"{{ style }}\" style to write the description for the scenario of \"{{ scenario }}\".\n",
      "\n",
      "Please generate:\n",
      "\n",
      "1. **A one-line catchy headline**\n",
      "2. **A concise introduction** (2-3 sentences)\n",
      "3. **Three bullet-point highlights**\n",
      "\n",
      "---\n",
      "\n",
      "### Style Guidance for \"{{ style }}\":\n",
      "{{ style_tone }}\n",
      "\n",
      "### Scenario Instructions for \"{{ scenario }}\":\n",
      "{{ scenario_tone }}\n",
      "\n",
      "---\n",
      "\n",
      "Please write in English if no language is specified.\n",
      "\n"
     ]
    }
   ],
   "source": [
    "with open(\"presets/template\", \"r\") as f:\n",
    "    template = f.read()\n",
    "    \n",
    "print(template)"
   ]
  },
  {
   "cell_type": "code",
   "execution_count": 10,
   "id": "f347c015",
   "metadata": {},
   "outputs": [],
   "source": [
    "import json\n",
    "import jinja2\n",
    "\n",
    "# 加载JSON数据\n",
    "styles = json.load(open(\"presets/styles.json\"))\n",
    "scenarios = json.load(open(\"presets/scenarios.json\"))\n",
    "\n",
    "# 选定style与scenario\n",
    "selected_style = \"Japanese Minimal\"\n",
    "selected_scenario = \"Website\"\n",
    "\n",
    "# 酒店信息 (示例字典)\n",
    "hotel_info = {\n",
    "    \"name\": \"Kyoto Serenity Hotel\",\n",
    "    \"location\": \"Kyoto, Japan\",\n",
    "    \"unique_selling_points\": [\"Zen garden\", \"Minimalist rooms\", \"Tea ceremony experience\"]\n",
    "}\n",
    "\n",
    "def hotel_info2str(hotel_info):\n",
    "    lines = []\n",
    "    for key, value in hotel_info.items():\n",
    "        if isinstance(value, list):\n",
    "            value = \", \".join(value)\n",
    "        key = key.replace(\"_\", \" \").title()\n",
    "        lines.append(f\"- **{key}**: {value}\")\n",
    "    return \"\\n\".join(lines)\n",
    "\n",
    "# 渲染prompt\n",
    "template = jinja2.Template(open(\"presets/template\").read())\n",
    "\n",
    "prompt_text = template.render(\n",
    "    hotel_info=hotel_info2str(hotel_info),\n",
    "    style=selected_style,\n",
    "    style_tone=styles[selected_style],\n",
    "    scenario=selected_scenario,\n",
    "    scenario_tone=scenarios[selected_scenario]\n",
    ")\n",
    "\n",
    "# 接下来把 prompt_text 发送给 Ollama 等大模型接口即可\n",
    "with open(\"presets/prompt.txt\", \"w\") as f:\n",
    "    f.write(prompt_text)"
   ]
  },
  {
   "cell_type": "code",
   "execution_count": 39,
   "id": "e30176cd",
   "metadata": {},
   "outputs": [],
   "source": [
    "import json\n",
    "import jinja2\n",
    "from pathlib import Path\n",
    "\n",
    "def generate_hotel_prompt(selected_style: str, selected_scenario: str, hotel_info: dict, prompt: str = \"\") -> str:\n",
    "\n",
    "    # Load presets\n",
    "    base_path = Path(\"presets\")\n",
    "    styles = json.load(open(base_path / \"styles.json\"))\n",
    "    scenarios = json.load(open(base_path / \"scenarios.json\"))\n",
    "    template = jinja2.Template(open(base_path / \"template\").read())\n",
    "\n",
    "    # hotel_info -> markdown bullet\n",
    "    def hotel_info2str(hotel_info):\n",
    "        lines = []\n",
    "        for key, value in hotel_info.items():\n",
    "            if isinstance(value, list):\n",
    "                value = \", \".join(value)\n",
    "            key = key.replace(\"_\", \" \").title()\n",
    "            lines.append(f\"- **{key}**: {value}\")\n",
    "        return \"\\n\".join(lines)\n",
    "\n",
    "    # Render final prompt\n",
    "    rendered = template.render(\n",
    "        hotel_info=hotel_info2str(hotel_info),\n",
    "        style=selected_style,\n",
    "        style_tone=styles[selected_style],\n",
    "        scenario=selected_scenario,\n",
    "        scenario_tone=scenarios[selected_scenario],\n",
    "    )\n",
    "    \n",
    "    # Add additional prompt if provided\n",
    "    if prompt:\n",
    "        rendered += f\"\\n\\nPlease also consider the following:\\n{prompt}\"\n",
    "\n",
    "    return rendered\n",
    "\n",
    "generated_prompt = generate_hotel_prompt(\n",
    "    selected_style=\"Youth Social\",\n",
    "    selected_scenario=\"Website\",\n",
    "    hotel_info={\n",
    "        \"name\": \"高定酒店\",\n",
    "        \"location\": \"Kyoto, Japan\",\n",
    "        \"unique_selling_points\": [\"Zen garden\", \"Minimalist rooms\", \"Tea ceremony experience\"]\n",
    "    },\n",
    "    prompt=\"Please use Chinese to generate text\"\n",
    ")\n",
    "\n",
    "with open(\"presets/prompt.txt\", \"w\") as f:\n",
    "    f.write(generated_prompt)"
   ]
  },
  {
   "cell_type": "code",
   "execution_count": 40,
   "id": "887cb760",
   "metadata": {},
   "outputs": [],
   "source": [
    "import ollama\n",
    "\n",
    "client = ollama.Client(\"http://localhost:11434\")\n",
    "model = \"phi3:3.8b\"\n",
    "model = \"qwen2.5:latest\"\n",
    "\n",
    "response = client.generate(model=model, prompt=generated_prompt)\n",
    "with open(\"presets/response.md\", \"w\") as f:\n",
    "    f.write(response.response)"
   ]
  },
  {
   "cell_type": "code",
   "execution_count": 49,
   "id": "0471cfe2",
   "metadata": {},
   "outputs": [
    {
     "data": {
      "text/plain": [
       "\"# Title\\nZen Out in Kyoto: High-Quality Relaxation at 高定酒店\\n\\n# Introduction\\nExperience pure tranquility at 高定酒店, where minimalist vibes meet ancient Japanese charm. Nestled in the heart of Kyoto, this hotel is more than just a place to stay; it's your gateway to a serene escape with a private Zen garden and an authentic tea ceremony experience.\\n\\n# Highlights\\n- **Zen Garden Retreat**: Step into nature’s embrace with a personal Zen garden right outside your door.\\n- **Minimalist Luxe Rooms**: Wake up to sleek, modern spaces that offer both comfort and calm.\\n- **Tea Ceremony Traditions**: Immerse yourself in the art of the tea ceremony for a taste of true Japanese culture.\""
      ]
     },
     "execution_count": 49,
     "metadata": {},
     "output_type": "execute_result"
    }
   ],
   "source": [
    "response['response']"
   ]
  }
 ],
 "metadata": {
  "kernelspec": {
   "display_name": "misc",
   "language": "python",
   "name": "python3"
  },
  "language_info": {
   "codemirror_mode": {
    "name": "ipython",
    "version": 3
   },
   "file_extension": ".py",
   "mimetype": "text/x-python",
   "name": "python",
   "nbconvert_exporter": "python",
   "pygments_lexer": "ipython3",
   "version": "3.12.7"
  }
 },
 "nbformat": 4,
 "nbformat_minor": 5
}
